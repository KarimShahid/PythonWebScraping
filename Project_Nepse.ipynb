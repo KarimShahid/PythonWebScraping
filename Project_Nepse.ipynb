{
 "cells": [
  {
   "cell_type": "code",
   "execution_count": 1,
   "id": "b0074921",
   "metadata": {},
   "outputs": [],
   "source": [
    "#Web Scraping project"
   ]
  },
  {
   "cell_type": "code",
   "execution_count": null,
   "id": "1274b2d8",
   "metadata": {},
   "outputs": [],
   "source": []
  },
  {
   "cell_type": "code",
   "execution_count": 27,
   "id": "ecfbd618",
   "metadata": {
    "scrolled": true
   },
   "outputs": [
    {
     "name": "stdout",
     "output_type": "stream",
     "text": [
      "['SN', 'Traded_Companies', 'No_Of_Transaction', 'Max_Price', 'Min_Price', 'Closing_Price', 'Traded_Shares', 'Amount', 'Previous_Closing', 'Difference_Rs']\n"
     ]
    }
   ],
   "source": [
    "import csv\n",
    "from bs4 import BeautifulSoup\n",
    "import requests\n",
    "datas = []\n",
    "final_output = []\n",
    "for pg in range(1,13):\n",
    "    \n",
    "    url = f\"http://www.nepalstock.com/main/todays_price/index/{pg}/\"\n",
    "    soup = BeautifulSoup(url, 'html.parser')\n",
    "    data = requests.get(soup)\n",
    "    soup = data.text\n",
    "    data1 = BeautifulSoup(soup, \"lxml\")\n",
    "    x = data1.table\n",
    "    tags = x.find_all('tr')\n",
    "    for i in tags:\n",
    "        y = i.get_text()\n",
    "        datas.append(y)\n",
    "\n",
    "output =[]\n",
    "\n",
    "\n",
    "for j in datas:\n",
    "    data1 = j.split('\\n')\n",
    "    output.append(data1)\n",
    "data2 = output[2:-4]\n",
    "\n",
    "\n",
    "for d in data2:\n",
    "    final = (d[1:-3])\n",
    "    final_output.append(final)\n",
    "        \n",
    "\n",
    "empty = [] #list for storing the header after making it clean.\n",
    "for i in range(len(tags)):\n",
    "    empty.append(tags[i].text.replace(' ','_').replace('.','').split('\\n'))\n",
    "    \n",
    "header = empty[1][1:-1] #Storing only the header in header[].\n",
    "final_output.insert(0,header)    \n",
    "\n",
    "print(header)\n",
    "print(final_o)"
   ]
  },
  {
   "cell_type": "code",
   "execution_count": null,
   "id": "cd609ca3",
   "metadata": {},
   "outputs": [],
   "source": []
  },
  {
   "cell_type": "code",
   "execution_count": null,
   "id": "2f92fc04",
   "metadata": {},
   "outputs": [],
   "source": []
  },
  {
   "cell_type": "code",
   "execution_count": 16,
   "id": "3071eaee",
   "metadata": {},
   "outputs": [],
   "source": [
    "# empty=[]\n",
    "# tags\n",
    "# for i in range(len(tags)):\n",
    "#     empty.append(tags[i].text.replace(' ','_').replace('.','').split('\\n'))\n",
    "    \n",
    "# empty[1][1:-1]\n",
    "\n"
   ]
  },
  {
   "cell_type": "code",
   "execution_count": 28,
   "id": "3666cff5",
   "metadata": {
    "scrolled": false
   },
   "outputs": [
    {
     "data": {
      "text/html": [
       "<div>\n",
       "<style scoped>\n",
       "    .dataframe tbody tr th:only-of-type {\n",
       "        vertical-align: middle;\n",
       "    }\n",
       "\n",
       "    .dataframe tbody tr th {\n",
       "        vertical-align: top;\n",
       "    }\n",
       "\n",
       "    .dataframe thead th {\n",
       "        text-align: right;\n",
       "    }\n",
       "</style>\n",
       "<table border=\"1\" class=\"dataframe\">\n",
       "  <thead>\n",
       "    <tr style=\"text-align: right;\">\n",
       "      <th></th>\n",
       "      <th>SN</th>\n",
       "      <th>Traded_Companies</th>\n",
       "      <th>No_Of_Transaction</th>\n",
       "      <th>Max_Price</th>\n",
       "      <th>Min_Price</th>\n",
       "      <th>Closing_Price</th>\n",
       "      <th>Traded_Shares</th>\n",
       "      <th>Amount</th>\n",
       "      <th>Previous_Closing</th>\n",
       "      <th>Difference_Rs</th>\n",
       "    </tr>\n",
       "  </thead>\n",
       "  <tbody>\n",
       "    <tr>\n",
       "      <th>0</th>\n",
       "      <td>1</td>\n",
       "      <td>12 % Goodwill Finance Limited Debenture 2083</td>\n",
       "      <td>5</td>\n",
       "      <td>1095.0</td>\n",
       "      <td>1090.0</td>\n",
       "      <td>1090.0</td>\n",
       "      <td>625.0</td>\n",
       "      <td>682475.0</td>\n",
       "      <td>1095.0</td>\n",
       "      <td>-5.00</td>\n",
       "    </tr>\n",
       "    <tr>\n",
       "      <th>1</th>\n",
       "      <td>2</td>\n",
       "      <td>8.5% SBL Debenture 2084</td>\n",
       "      <td>1</td>\n",
       "      <td>872.3</td>\n",
       "      <td>872.3</td>\n",
       "      <td>872.3</td>\n",
       "      <td>25.0</td>\n",
       "      <td>21807.5</td>\n",
       "      <td>877.5</td>\n",
       "      <td>-5.20</td>\n",
       "    </tr>\n",
       "    <tr>\n",
       "      <th>2</th>\n",
       "      <td>3</td>\n",
       "      <td>Aarambha Chautari Laghubitta Bittiya Sanstha L...</td>\n",
       "      <td>93</td>\n",
       "      <td>1425.0</td>\n",
       "      <td>1400.0</td>\n",
       "      <td>1425.0</td>\n",
       "      <td>3632.0</td>\n",
       "      <td>5135153.7</td>\n",
       "      <td>1407.0</td>\n",
       "      <td>18.00</td>\n",
       "    </tr>\n",
       "    <tr>\n",
       "      <th>3</th>\n",
       "      <td>4</td>\n",
       "      <td>Agriculture Development Bank Limited</td>\n",
       "      <td>343</td>\n",
       "      <td>410.0</td>\n",
       "      <td>403.2</td>\n",
       "      <td>407.0</td>\n",
       "      <td>36803.0</td>\n",
       "      <td>14894245.9</td>\n",
       "      <td>404.0</td>\n",
       "      <td>3.00</td>\n",
       "    </tr>\n",
       "    <tr>\n",
       "      <th>4</th>\n",
       "      <td>5</td>\n",
       "      <td>Ajod Insurance Limited</td>\n",
       "      <td>103</td>\n",
       "      <td>712.0</td>\n",
       "      <td>686.0</td>\n",
       "      <td>711.0</td>\n",
       "      <td>4123.0</td>\n",
       "      <td>2898677.2</td>\n",
       "      <td>700.0</td>\n",
       "      <td>11.00</td>\n",
       "    </tr>\n",
       "    <tr>\n",
       "      <th>...</th>\n",
       "      <td>...</td>\n",
       "      <td>...</td>\n",
       "      <td>...</td>\n",
       "      <td>...</td>\n",
       "      <td>...</td>\n",
       "      <td>...</td>\n",
       "      <td>...</td>\n",
       "      <td>...</td>\n",
       "      <td>...</td>\n",
       "      <td>...</td>\n",
       "    </tr>\n",
       "    <tr>\n",
       "      <th>219</th>\n",
       "      <td>220</td>\n",
       "      <td>UNIVERSAL POWER COMPANY LTD</td>\n",
       "      <td>344</td>\n",
       "      <td>397.0</td>\n",
       "      <td>372.0</td>\n",
       "      <td>393.9</td>\n",
       "      <td>58087.0</td>\n",
       "      <td>22249301.7</td>\n",
       "      <td>379.0</td>\n",
       "      <td>14.90</td>\n",
       "    </tr>\n",
       "    <tr>\n",
       "      <th>220</th>\n",
       "      <td>221</td>\n",
       "      <td>Unnati Sahakarya Laghubitta Bittiya Sanstha Li...</td>\n",
       "      <td>15</td>\n",
       "      <td>1540.0</td>\n",
       "      <td>1485.0</td>\n",
       "      <td>1540.0</td>\n",
       "      <td>475.0</td>\n",
       "      <td>722025.0</td>\n",
       "      <td>1495.0</td>\n",
       "      <td>45.00</td>\n",
       "    </tr>\n",
       "    <tr>\n",
       "      <th>221</th>\n",
       "      <td>222</td>\n",
       "      <td>Upper Tamakoshi Hydropower Ltd</td>\n",
       "      <td>800</td>\n",
       "      <td>670.0</td>\n",
       "      <td>639.6</td>\n",
       "      <td>667.9</td>\n",
       "      <td>93445.0</td>\n",
       "      <td>60826616.8</td>\n",
       "      <td>639.1</td>\n",
       "      <td>28.80</td>\n",
       "    </tr>\n",
       "    <tr>\n",
       "      <th>222</th>\n",
       "      <td>223</td>\n",
       "      <td>Vijaya laghubitta Bittiya Sanstha Ltd.</td>\n",
       "      <td>36</td>\n",
       "      <td>1370.0</td>\n",
       "      <td>1277.0</td>\n",
       "      <td>1360.0</td>\n",
       "      <td>1543.0</td>\n",
       "      <td>2052893.6</td>\n",
       "      <td>1280.0</td>\n",
       "      <td>80.00</td>\n",
       "    </tr>\n",
       "    <tr>\n",
       "      <th>223</th>\n",
       "      <td>224</td>\n",
       "      <td>Wean Nepal Laghubitta Bittiya Sanstha Limited</td>\n",
       "      <td>44</td>\n",
       "      <td>1600.0</td>\n",
       "      <td>1562.0</td>\n",
       "      <td>1580.0</td>\n",
       "      <td>817.0</td>\n",
       "      <td>1287204.0</td>\n",
       "      <td>1568.0</td>\n",
       "      <td>12.00</td>\n",
       "    </tr>\n",
       "  </tbody>\n",
       "</table>\n",
       "<p>224 rows × 10 columns</p>\n",
       "</div>"
      ],
      "text/plain": [
       "      SN                                   Traded_Companies  \\\n",
       "0      1       12 % Goodwill Finance Limited Debenture 2083   \n",
       "1      2                            8.5% SBL Debenture 2084   \n",
       "2      3  Aarambha Chautari Laghubitta Bittiya Sanstha L...   \n",
       "3      4               Agriculture Development Bank Limited   \n",
       "4      5                             Ajod Insurance Limited   \n",
       "..   ...                                                ...   \n",
       "219  220                        UNIVERSAL POWER COMPANY LTD   \n",
       "220  221  Unnati Sahakarya Laghubitta Bittiya Sanstha Li...   \n",
       "221  222                     Upper Tamakoshi Hydropower Ltd   \n",
       "222  223             Vijaya laghubitta Bittiya Sanstha Ltd.   \n",
       "223  224      Wean Nepal Laghubitta Bittiya Sanstha Limited   \n",
       "\n",
       "     No_Of_Transaction  Max_Price  Min_Price  Closing_Price  Traded_Shares  \\\n",
       "0                    5     1095.0     1090.0         1090.0          625.0   \n",
       "1                    1      872.3      872.3          872.3           25.0   \n",
       "2                   93     1425.0     1400.0         1425.0         3632.0   \n",
       "3                  343      410.0      403.2          407.0        36803.0   \n",
       "4                  103      712.0      686.0          711.0         4123.0   \n",
       "..                 ...        ...        ...            ...            ...   \n",
       "219                344      397.0      372.0          393.9        58087.0   \n",
       "220                 15     1540.0     1485.0         1540.0          475.0   \n",
       "221                800      670.0      639.6          667.9        93445.0   \n",
       "222                 36     1370.0     1277.0         1360.0         1543.0   \n",
       "223                 44     1600.0     1562.0         1580.0          817.0   \n",
       "\n",
       "         Amount  Previous_Closing Difference_Rs  \n",
       "0      682475.0            1095.0        -5.00   \n",
       "1       21807.5             877.5        -5.20   \n",
       "2     5135153.7            1407.0        18.00   \n",
       "3    14894245.9             404.0         3.00   \n",
       "4     2898677.2             700.0        11.00   \n",
       "..          ...               ...           ...  \n",
       "219  22249301.7             379.0        14.90   \n",
       "220    722025.0            1495.0        45.00   \n",
       "221  60826616.8             639.1        28.80   \n",
       "222   2052893.6            1280.0        80.00   \n",
       "223   1287204.0            1568.0        12.00   \n",
       "\n",
       "[224 rows x 10 columns]"
      ]
     },
     "execution_count": 28,
     "metadata": {},
     "output_type": "execute_result"
    }
   ],
   "source": [
    "f = open('ProjectNEPSE.csv','w')\n",
    "x = csv.writer(f)\n",
    "for i in final_output:\n",
    "    x.writerow(i)\n",
    "f.close()\n",
    "\n",
    "\n",
    "import pandas as pd\n",
    "df = pd.read_csv('ProjectNEPSE.csv')\n",
    "df\n",
    "\n"
   ]
  },
  {
   "cell_type": "code",
   "execution_count": 20,
   "id": "f3f1bcab",
   "metadata": {
    "scrolled": false
   },
   "outputs": [
    {
     "data": {
      "text/html": [
       "<div>\n",
       "<style scoped>\n",
       "    .dataframe tbody tr th:only-of-type {\n",
       "        vertical-align: middle;\n",
       "    }\n",
       "\n",
       "    .dataframe tbody tr th {\n",
       "        vertical-align: top;\n",
       "    }\n",
       "\n",
       "    .dataframe thead th {\n",
       "        text-align: right;\n",
       "    }\n",
       "</style>\n",
       "<table border=\"1\" class=\"dataframe\">\n",
       "  <thead>\n",
       "    <tr style=\"text-align: right;\">\n",
       "      <th></th>\n",
       "      <th>SN</th>\n",
       "      <th>Traded_Companies</th>\n",
       "      <th>No_Of_Transaction</th>\n",
       "      <th>Max_Price</th>\n",
       "      <th>Min_Price</th>\n",
       "      <th>Closing_Price</th>\n",
       "      <th>Traded_Shares</th>\n",
       "      <th>Amount</th>\n",
       "      <th>Previous_Closing</th>\n",
       "      <th>Difference_Rs</th>\n",
       "    </tr>\n",
       "  </thead>\n",
       "  <tbody>\n",
       "    <tr>\n",
       "      <th>0</th>\n",
       "      <td>1</td>\n",
       "      <td>12 % Goodwill Finance Limited Debenture 2083</td>\n",
       "      <td>5</td>\n",
       "      <td>1095.0</td>\n",
       "      <td>1090.0</td>\n",
       "      <td>1090.0</td>\n",
       "      <td>625.0</td>\n",
       "      <td>682475.0</td>\n",
       "      <td>1095.0</td>\n",
       "      <td>-5.00</td>\n",
       "    </tr>\n",
       "    <tr>\n",
       "      <th>1</th>\n",
       "      <td>2</td>\n",
       "      <td>8.5% SBL Debenture 2084</td>\n",
       "      <td>1</td>\n",
       "      <td>872.3</td>\n",
       "      <td>872.3</td>\n",
       "      <td>872.3</td>\n",
       "      <td>25.0</td>\n",
       "      <td>21807.5</td>\n",
       "      <td>877.5</td>\n",
       "      <td>-5.20</td>\n",
       "    </tr>\n",
       "    <tr>\n",
       "      <th>2</th>\n",
       "      <td>3</td>\n",
       "      <td>Aarambha Chautari Laghubitta Bittiya Sanstha L...</td>\n",
       "      <td>93</td>\n",
       "      <td>1425.0</td>\n",
       "      <td>1400.0</td>\n",
       "      <td>1425.0</td>\n",
       "      <td>3632.0</td>\n",
       "      <td>5135153.7</td>\n",
       "      <td>1407.0</td>\n",
       "      <td>18.00</td>\n",
       "    </tr>\n",
       "    <tr>\n",
       "      <th>3</th>\n",
       "      <td>4</td>\n",
       "      <td>Agriculture Development Bank Limited</td>\n",
       "      <td>343</td>\n",
       "      <td>410.0</td>\n",
       "      <td>403.2</td>\n",
       "      <td>407.0</td>\n",
       "      <td>36803.0</td>\n",
       "      <td>14894245.9</td>\n",
       "      <td>404.0</td>\n",
       "      <td>3.00</td>\n",
       "    </tr>\n",
       "    <tr>\n",
       "      <th>4</th>\n",
       "      <td>5</td>\n",
       "      <td>Ajod Insurance Limited</td>\n",
       "      <td>103</td>\n",
       "      <td>712.0</td>\n",
       "      <td>686.0</td>\n",
       "      <td>711.0</td>\n",
       "      <td>4123.0</td>\n",
       "      <td>2898677.2</td>\n",
       "      <td>700.0</td>\n",
       "      <td>11.00</td>\n",
       "    </tr>\n",
       "    <tr>\n",
       "      <th>5</th>\n",
       "      <td>6</td>\n",
       "      <td>Ankhu Khola Jalvidhyut Company Ltd</td>\n",
       "      <td>452</td>\n",
       "      <td>320.0</td>\n",
       "      <td>303.0</td>\n",
       "      <td>316.0</td>\n",
       "      <td>66135.0</td>\n",
       "      <td>20460098.2</td>\n",
       "      <td>304.0</td>\n",
       "      <td>12.00</td>\n",
       "    </tr>\n",
       "    <tr>\n",
       "      <th>6</th>\n",
       "      <td>7</td>\n",
       "      <td>Api Power Company Ltd.</td>\n",
       "      <td>1136</td>\n",
       "      <td>534.0</td>\n",
       "      <td>510.0</td>\n",
       "      <td>534.0</td>\n",
       "      <td>225080.0</td>\n",
       "      <td>117508900.1</td>\n",
       "      <td>509.0</td>\n",
       "      <td>25.00</td>\n",
       "    </tr>\n",
       "    <tr>\n",
       "      <th>7</th>\n",
       "      <td>8</td>\n",
       "      <td>Arun Kabeli Power Ltd.</td>\n",
       "      <td>582</td>\n",
       "      <td>556.9</td>\n",
       "      <td>533.0</td>\n",
       "      <td>556.0</td>\n",
       "      <td>87996.0</td>\n",
       "      <td>47926856.3</td>\n",
       "      <td>533.0</td>\n",
       "      <td>23.00</td>\n",
       "    </tr>\n",
       "    <tr>\n",
       "      <th>8</th>\n",
       "      <td>9</td>\n",
       "      <td>Arun Valley Hydropower Development Co. Ltd.</td>\n",
       "      <td>1012</td>\n",
       "      <td>574.0</td>\n",
       "      <td>542.0</td>\n",
       "      <td>573.0</td>\n",
       "      <td>243819.0</td>\n",
       "      <td>135339637.8</td>\n",
       "      <td>541.0</td>\n",
       "      <td>32.00</td>\n",
       "    </tr>\n",
       "    <tr>\n",
       "      <th>9</th>\n",
       "      <td>10</td>\n",
       "      <td>Asha Laghubitta Bittiya Sanstha Ltd</td>\n",
       "      <td>55</td>\n",
       "      <td>1540.0</td>\n",
       "      <td>1480.1</td>\n",
       "      <td>1540.0</td>\n",
       "      <td>910.0</td>\n",
       "      <td>1385091.2</td>\n",
       "      <td>1510.0</td>\n",
       "      <td>30.00</td>\n",
       "    </tr>\n",
       "  </tbody>\n",
       "</table>\n",
       "</div>"
      ],
      "text/plain": [
       "   SN                                   Traded_Companies  No_Of_Transaction  \\\n",
       "0   1       12 % Goodwill Finance Limited Debenture 2083                  5   \n",
       "1   2                            8.5% SBL Debenture 2084                  1   \n",
       "2   3  Aarambha Chautari Laghubitta Bittiya Sanstha L...                 93   \n",
       "3   4               Agriculture Development Bank Limited                343   \n",
       "4   5                             Ajod Insurance Limited                103   \n",
       "5   6                 Ankhu Khola Jalvidhyut Company Ltd                452   \n",
       "6   7                             Api Power Company Ltd.               1136   \n",
       "7   8                             Arun Kabeli Power Ltd.                582   \n",
       "8   9        Arun Valley Hydropower Development Co. Ltd.               1012   \n",
       "9  10                Asha Laghubitta Bittiya Sanstha Ltd                 55   \n",
       "\n",
       "   Max_Price  Min_Price  Closing_Price  Traded_Shares       Amount  \\\n",
       "0     1095.0     1090.0         1090.0          625.0     682475.0   \n",
       "1      872.3      872.3          872.3           25.0      21807.5   \n",
       "2     1425.0     1400.0         1425.0         3632.0    5135153.7   \n",
       "3      410.0      403.2          407.0        36803.0   14894245.9   \n",
       "4      712.0      686.0          711.0         4123.0    2898677.2   \n",
       "5      320.0      303.0          316.0        66135.0   20460098.2   \n",
       "6      534.0      510.0          534.0       225080.0  117508900.1   \n",
       "7      556.9      533.0          556.0        87996.0   47926856.3   \n",
       "8      574.0      542.0          573.0       243819.0  135339637.8   \n",
       "9     1540.0     1480.1         1540.0          910.0    1385091.2   \n",
       "\n",
       "   Previous_Closing Difference_Rs  \n",
       "0            1095.0        -5.00   \n",
       "1             877.5        -5.20   \n",
       "2            1407.0        18.00   \n",
       "3             404.0         3.00   \n",
       "4             700.0        11.00   \n",
       "5             304.0        12.00   \n",
       "6             509.0        25.00   \n",
       "7             533.0        23.00   \n",
       "8             541.0        32.00   \n",
       "9            1510.0        30.00   "
      ]
     },
     "execution_count": 20,
     "metadata": {},
     "output_type": "execute_result"
    }
   ],
   "source": [
    "import plotly.express as px\n",
    "\n",
    "updated_dataframe = df.iloc[0:10]\n",
    "updated_dataframe\n",
    "\n"
   ]
  },
  {
   "cell_type": "code",
   "execution_count": 21,
   "id": "90e4cb82",
   "metadata": {},
   "outputs": [
    {
     "data": {
      "application/vnd.plotly.v1+json": {
       "config": {
        "plotlyServerURL": "https://plot.ly"
       },
       "data": [
        {
         "alignmentgroup": "True",
         "hovertemplate": "Traded_Companies=%{x}<br>Max_Price=%{y}<extra></extra>",
         "legendgroup": "",
         "marker": {
          "color": "#636efa",
          "pattern": {
           "shape": ""
          }
         },
         "name": "",
         "offsetgroup": "",
         "orientation": "v",
         "showlegend": false,
         "textposition": "auto",
         "type": "bar",
         "x": [
          "12 % Goodwill Finance Limited Debenture 2083",
          "8.5% SBL Debenture 2084",
          "Aarambha Chautari Laghubitta Bittiya Sanstha Limited",
          "Agriculture Development Bank Limited",
          "Ajod Insurance Limited",
          "Ankhu Khola Jalvidhyut Company Ltd",
          "Api Power Company Ltd.",
          "Arun Kabeli Power Ltd.",
          "Arun Valley Hydropower Development Co. Ltd.",
          "Asha Laghubitta Bittiya Sanstha Ltd"
         ],
         "xaxis": "x",
         "y": [
          1095,
          872.3,
          1425,
          410,
          712,
          320,
          534,
          556.9,
          574,
          1540
         ],
         "yaxis": "y"
        }
       ],
       "layout": {
        "barmode": "relative",
        "legend": {
         "tracegroupgap": 0
        },
        "margin": {
         "t": 60
        },
        "template": {
         "data": {
          "bar": [
           {
            "error_x": {
             "color": "#2a3f5f"
            },
            "error_y": {
             "color": "#2a3f5f"
            },
            "marker": {
             "line": {
              "color": "#E5ECF6",
              "width": 0.5
             },
             "pattern": {
              "fillmode": "overlay",
              "size": 10,
              "solidity": 0.2
             }
            },
            "type": "bar"
           }
          ],
          "barpolar": [
           {
            "marker": {
             "line": {
              "color": "#E5ECF6",
              "width": 0.5
             },
             "pattern": {
              "fillmode": "overlay",
              "size": 10,
              "solidity": 0.2
             }
            },
            "type": "barpolar"
           }
          ],
          "carpet": [
           {
            "aaxis": {
             "endlinecolor": "#2a3f5f",
             "gridcolor": "white",
             "linecolor": "white",
             "minorgridcolor": "white",
             "startlinecolor": "#2a3f5f"
            },
            "baxis": {
             "endlinecolor": "#2a3f5f",
             "gridcolor": "white",
             "linecolor": "white",
             "minorgridcolor": "white",
             "startlinecolor": "#2a3f5f"
            },
            "type": "carpet"
           }
          ],
          "choropleth": [
           {
            "colorbar": {
             "outlinewidth": 0,
             "ticks": ""
            },
            "type": "choropleth"
           }
          ],
          "contour": [
           {
            "colorbar": {
             "outlinewidth": 0,
             "ticks": ""
            },
            "colorscale": [
             [
              0,
              "#0d0887"
             ],
             [
              0.1111111111111111,
              "#46039f"
             ],
             [
              0.2222222222222222,
              "#7201a8"
             ],
             [
              0.3333333333333333,
              "#9c179e"
             ],
             [
              0.4444444444444444,
              "#bd3786"
             ],
             [
              0.5555555555555556,
              "#d8576b"
             ],
             [
              0.6666666666666666,
              "#ed7953"
             ],
             [
              0.7777777777777778,
              "#fb9f3a"
             ],
             [
              0.8888888888888888,
              "#fdca26"
             ],
             [
              1,
              "#f0f921"
             ]
            ],
            "type": "contour"
           }
          ],
          "contourcarpet": [
           {
            "colorbar": {
             "outlinewidth": 0,
             "ticks": ""
            },
            "type": "contourcarpet"
           }
          ],
          "heatmap": [
           {
            "colorbar": {
             "outlinewidth": 0,
             "ticks": ""
            },
            "colorscale": [
             [
              0,
              "#0d0887"
             ],
             [
              0.1111111111111111,
              "#46039f"
             ],
             [
              0.2222222222222222,
              "#7201a8"
             ],
             [
              0.3333333333333333,
              "#9c179e"
             ],
             [
              0.4444444444444444,
              "#bd3786"
             ],
             [
              0.5555555555555556,
              "#d8576b"
             ],
             [
              0.6666666666666666,
              "#ed7953"
             ],
             [
              0.7777777777777778,
              "#fb9f3a"
             ],
             [
              0.8888888888888888,
              "#fdca26"
             ],
             [
              1,
              "#f0f921"
             ]
            ],
            "type": "heatmap"
           }
          ],
          "heatmapgl": [
           {
            "colorbar": {
             "outlinewidth": 0,
             "ticks": ""
            },
            "colorscale": [
             [
              0,
              "#0d0887"
             ],
             [
              0.1111111111111111,
              "#46039f"
             ],
             [
              0.2222222222222222,
              "#7201a8"
             ],
             [
              0.3333333333333333,
              "#9c179e"
             ],
             [
              0.4444444444444444,
              "#bd3786"
             ],
             [
              0.5555555555555556,
              "#d8576b"
             ],
             [
              0.6666666666666666,
              "#ed7953"
             ],
             [
              0.7777777777777778,
              "#fb9f3a"
             ],
             [
              0.8888888888888888,
              "#fdca26"
             ],
             [
              1,
              "#f0f921"
             ]
            ],
            "type": "heatmapgl"
           }
          ],
          "histogram": [
           {
            "marker": {
             "pattern": {
              "fillmode": "overlay",
              "size": 10,
              "solidity": 0.2
             }
            },
            "type": "histogram"
           }
          ],
          "histogram2d": [
           {
            "colorbar": {
             "outlinewidth": 0,
             "ticks": ""
            },
            "colorscale": [
             [
              0,
              "#0d0887"
             ],
             [
              0.1111111111111111,
              "#46039f"
             ],
             [
              0.2222222222222222,
              "#7201a8"
             ],
             [
              0.3333333333333333,
              "#9c179e"
             ],
             [
              0.4444444444444444,
              "#bd3786"
             ],
             [
              0.5555555555555556,
              "#d8576b"
             ],
             [
              0.6666666666666666,
              "#ed7953"
             ],
             [
              0.7777777777777778,
              "#fb9f3a"
             ],
             [
              0.8888888888888888,
              "#fdca26"
             ],
             [
              1,
              "#f0f921"
             ]
            ],
            "type": "histogram2d"
           }
          ],
          "histogram2dcontour": [
           {
            "colorbar": {
             "outlinewidth": 0,
             "ticks": ""
            },
            "colorscale": [
             [
              0,
              "#0d0887"
             ],
             [
              0.1111111111111111,
              "#46039f"
             ],
             [
              0.2222222222222222,
              "#7201a8"
             ],
             [
              0.3333333333333333,
              "#9c179e"
             ],
             [
              0.4444444444444444,
              "#bd3786"
             ],
             [
              0.5555555555555556,
              "#d8576b"
             ],
             [
              0.6666666666666666,
              "#ed7953"
             ],
             [
              0.7777777777777778,
              "#fb9f3a"
             ],
             [
              0.8888888888888888,
              "#fdca26"
             ],
             [
              1,
              "#f0f921"
             ]
            ],
            "type": "histogram2dcontour"
           }
          ],
          "mesh3d": [
           {
            "colorbar": {
             "outlinewidth": 0,
             "ticks": ""
            },
            "type": "mesh3d"
           }
          ],
          "parcoords": [
           {
            "line": {
             "colorbar": {
              "outlinewidth": 0,
              "ticks": ""
             }
            },
            "type": "parcoords"
           }
          ],
          "pie": [
           {
            "automargin": true,
            "type": "pie"
           }
          ],
          "scatter": [
           {
            "marker": {
             "colorbar": {
              "outlinewidth": 0,
              "ticks": ""
             }
            },
            "type": "scatter"
           }
          ],
          "scatter3d": [
           {
            "line": {
             "colorbar": {
              "outlinewidth": 0,
              "ticks": ""
             }
            },
            "marker": {
             "colorbar": {
              "outlinewidth": 0,
              "ticks": ""
             }
            },
            "type": "scatter3d"
           }
          ],
          "scattercarpet": [
           {
            "marker": {
             "colorbar": {
              "outlinewidth": 0,
              "ticks": ""
             }
            },
            "type": "scattercarpet"
           }
          ],
          "scattergeo": [
           {
            "marker": {
             "colorbar": {
              "outlinewidth": 0,
              "ticks": ""
             }
            },
            "type": "scattergeo"
           }
          ],
          "scattergl": [
           {
            "marker": {
             "colorbar": {
              "outlinewidth": 0,
              "ticks": ""
             }
            },
            "type": "scattergl"
           }
          ],
          "scattermapbox": [
           {
            "marker": {
             "colorbar": {
              "outlinewidth": 0,
              "ticks": ""
             }
            },
            "type": "scattermapbox"
           }
          ],
          "scatterpolar": [
           {
            "marker": {
             "colorbar": {
              "outlinewidth": 0,
              "ticks": ""
             }
            },
            "type": "scatterpolar"
           }
          ],
          "scatterpolargl": [
           {
            "marker": {
             "colorbar": {
              "outlinewidth": 0,
              "ticks": ""
             }
            },
            "type": "scatterpolargl"
           }
          ],
          "scatterternary": [
           {
            "marker": {
             "colorbar": {
              "outlinewidth": 0,
              "ticks": ""
             }
            },
            "type": "scatterternary"
           }
          ],
          "surface": [
           {
            "colorbar": {
             "outlinewidth": 0,
             "ticks": ""
            },
            "colorscale": [
             [
              0,
              "#0d0887"
             ],
             [
              0.1111111111111111,
              "#46039f"
             ],
             [
              0.2222222222222222,
              "#7201a8"
             ],
             [
              0.3333333333333333,
              "#9c179e"
             ],
             [
              0.4444444444444444,
              "#bd3786"
             ],
             [
              0.5555555555555556,
              "#d8576b"
             ],
             [
              0.6666666666666666,
              "#ed7953"
             ],
             [
              0.7777777777777778,
              "#fb9f3a"
             ],
             [
              0.8888888888888888,
              "#fdca26"
             ],
             [
              1,
              "#f0f921"
             ]
            ],
            "type": "surface"
           }
          ],
          "table": [
           {
            "cells": {
             "fill": {
              "color": "#EBF0F8"
             },
             "line": {
              "color": "white"
             }
            },
            "header": {
             "fill": {
              "color": "#C8D4E3"
             },
             "line": {
              "color": "white"
             }
            },
            "type": "table"
           }
          ]
         },
         "layout": {
          "annotationdefaults": {
           "arrowcolor": "#2a3f5f",
           "arrowhead": 0,
           "arrowwidth": 1
          },
          "autotypenumbers": "strict",
          "coloraxis": {
           "colorbar": {
            "outlinewidth": 0,
            "ticks": ""
           }
          },
          "colorscale": {
           "diverging": [
            [
             0,
             "#8e0152"
            ],
            [
             0.1,
             "#c51b7d"
            ],
            [
             0.2,
             "#de77ae"
            ],
            [
             0.3,
             "#f1b6da"
            ],
            [
             0.4,
             "#fde0ef"
            ],
            [
             0.5,
             "#f7f7f7"
            ],
            [
             0.6,
             "#e6f5d0"
            ],
            [
             0.7,
             "#b8e186"
            ],
            [
             0.8,
             "#7fbc41"
            ],
            [
             0.9,
             "#4d9221"
            ],
            [
             1,
             "#276419"
            ]
           ],
           "sequential": [
            [
             0,
             "#0d0887"
            ],
            [
             0.1111111111111111,
             "#46039f"
            ],
            [
             0.2222222222222222,
             "#7201a8"
            ],
            [
             0.3333333333333333,
             "#9c179e"
            ],
            [
             0.4444444444444444,
             "#bd3786"
            ],
            [
             0.5555555555555556,
             "#d8576b"
            ],
            [
             0.6666666666666666,
             "#ed7953"
            ],
            [
             0.7777777777777778,
             "#fb9f3a"
            ],
            [
             0.8888888888888888,
             "#fdca26"
            ],
            [
             1,
             "#f0f921"
            ]
           ],
           "sequentialminus": [
            [
             0,
             "#0d0887"
            ],
            [
             0.1111111111111111,
             "#46039f"
            ],
            [
             0.2222222222222222,
             "#7201a8"
            ],
            [
             0.3333333333333333,
             "#9c179e"
            ],
            [
             0.4444444444444444,
             "#bd3786"
            ],
            [
             0.5555555555555556,
             "#d8576b"
            ],
            [
             0.6666666666666666,
             "#ed7953"
            ],
            [
             0.7777777777777778,
             "#fb9f3a"
            ],
            [
             0.8888888888888888,
             "#fdca26"
            ],
            [
             1,
             "#f0f921"
            ]
           ]
          },
          "colorway": [
           "#636efa",
           "#EF553B",
           "#00cc96",
           "#ab63fa",
           "#FFA15A",
           "#19d3f3",
           "#FF6692",
           "#B6E880",
           "#FF97FF",
           "#FECB52"
          ],
          "font": {
           "color": "#2a3f5f"
          },
          "geo": {
           "bgcolor": "white",
           "lakecolor": "white",
           "landcolor": "#E5ECF6",
           "showlakes": true,
           "showland": true,
           "subunitcolor": "white"
          },
          "hoverlabel": {
           "align": "left"
          },
          "hovermode": "closest",
          "mapbox": {
           "style": "light"
          },
          "paper_bgcolor": "white",
          "plot_bgcolor": "#E5ECF6",
          "polar": {
           "angularaxis": {
            "gridcolor": "white",
            "linecolor": "white",
            "ticks": ""
           },
           "bgcolor": "#E5ECF6",
           "radialaxis": {
            "gridcolor": "white",
            "linecolor": "white",
            "ticks": ""
           }
          },
          "scene": {
           "xaxis": {
            "backgroundcolor": "#E5ECF6",
            "gridcolor": "white",
            "gridwidth": 2,
            "linecolor": "white",
            "showbackground": true,
            "ticks": "",
            "zerolinecolor": "white"
           },
           "yaxis": {
            "backgroundcolor": "#E5ECF6",
            "gridcolor": "white",
            "gridwidth": 2,
            "linecolor": "white",
            "showbackground": true,
            "ticks": "",
            "zerolinecolor": "white"
           },
           "zaxis": {
            "backgroundcolor": "#E5ECF6",
            "gridcolor": "white",
            "gridwidth": 2,
            "linecolor": "white",
            "showbackground": true,
            "ticks": "",
            "zerolinecolor": "white"
           }
          },
          "shapedefaults": {
           "line": {
            "color": "#2a3f5f"
           }
          },
          "ternary": {
           "aaxis": {
            "gridcolor": "white",
            "linecolor": "white",
            "ticks": ""
           },
           "baxis": {
            "gridcolor": "white",
            "linecolor": "white",
            "ticks": ""
           },
           "bgcolor": "#E5ECF6",
           "caxis": {
            "gridcolor": "white",
            "linecolor": "white",
            "ticks": ""
           }
          },
          "title": {
           "x": 0.05
          },
          "xaxis": {
           "automargin": true,
           "gridcolor": "white",
           "linecolor": "white",
           "ticks": "",
           "title": {
            "standoff": 15
           },
           "zerolinecolor": "white",
           "zerolinewidth": 2
          },
          "yaxis": {
           "automargin": true,
           "gridcolor": "white",
           "linecolor": "white",
           "ticks": "",
           "title": {
            "standoff": 15
           },
           "zerolinecolor": "white",
           "zerolinewidth": 2
          }
         }
        },
        "xaxis": {
         "anchor": "y",
         "domain": [
          0,
          1
         ],
         "title": {
          "text": "Traded_Companies"
         }
        },
        "yaxis": {
         "anchor": "x",
         "domain": [
          0,
          1
         ],
         "title": {
          "text": "Max_Price"
         }
        }
       }
      },
      "text/html": [
       "<div>                            <div id=\"a1753f18-82c4-4971-81db-e1167ebc345d\" class=\"plotly-graph-div\" style=\"height:525px; width:100%;\"></div>            <script type=\"text/javascript\">                require([\"plotly\"], function(Plotly) {                    window.PLOTLYENV=window.PLOTLYENV || {};                                    if (document.getElementById(\"a1753f18-82c4-4971-81db-e1167ebc345d\")) {                    Plotly.newPlot(                        \"a1753f18-82c4-4971-81db-e1167ebc345d\",                        [{\"alignmentgroup\":\"True\",\"hovertemplate\":\"Traded_Companies=%{x}<br>Max_Price=%{y}<extra></extra>\",\"legendgroup\":\"\",\"marker\":{\"color\":\"#636efa\",\"pattern\":{\"shape\":\"\"}},\"name\":\"\",\"offsetgroup\":\"\",\"orientation\":\"v\",\"showlegend\":false,\"textposition\":\"auto\",\"x\":[\"12 % Goodwill Finance Limited Debenture 2083\",\"8.5% SBL Debenture 2084\",\"Aarambha Chautari Laghubitta Bittiya Sanstha Limited\",\"Agriculture Development Bank Limited\",\"Ajod Insurance Limited\",\"Ankhu Khola Jalvidhyut Company Ltd\",\"Api Power Company Ltd.\",\"Arun Kabeli Power Ltd.\",\"Arun Valley Hydropower Development Co. Ltd.\",\"Asha Laghubitta Bittiya Sanstha Ltd\"],\"xaxis\":\"x\",\"y\":[1095.0,872.3,1425.0,410.0,712.0,320.0,534.0,556.9,574.0,1540.0],\"yaxis\":\"y\",\"type\":\"bar\"}],                        {\"template\":{\"data\":{\"bar\":[{\"error_x\":{\"color\":\"#2a3f5f\"},\"error_y\":{\"color\":\"#2a3f5f\"},\"marker\":{\"line\":{\"color\":\"#E5ECF6\",\"width\":0.5},\"pattern\":{\"fillmode\":\"overlay\",\"size\":10,\"solidity\":0.2}},\"type\":\"bar\"}],\"barpolar\":[{\"marker\":{\"line\":{\"color\":\"#E5ECF6\",\"width\":0.5},\"pattern\":{\"fillmode\":\"overlay\",\"size\":10,\"solidity\":0.2}},\"type\":\"barpolar\"}],\"carpet\":[{\"aaxis\":{\"endlinecolor\":\"#2a3f5f\",\"gridcolor\":\"white\",\"linecolor\":\"white\",\"minorgridcolor\":\"white\",\"startlinecolor\":\"#2a3f5f\"},\"baxis\":{\"endlinecolor\":\"#2a3f5f\",\"gridcolor\":\"white\",\"linecolor\":\"white\",\"minorgridcolor\":\"white\",\"startlinecolor\":\"#2a3f5f\"},\"type\":\"carpet\"}],\"choropleth\":[{\"colorbar\":{\"outlinewidth\":0,\"ticks\":\"\"},\"type\":\"choropleth\"}],\"contour\":[{\"colorbar\":{\"outlinewidth\":0,\"ticks\":\"\"},\"colorscale\":[[0.0,\"#0d0887\"],[0.1111111111111111,\"#46039f\"],[0.2222222222222222,\"#7201a8\"],[0.3333333333333333,\"#9c179e\"],[0.4444444444444444,\"#bd3786\"],[0.5555555555555556,\"#d8576b\"],[0.6666666666666666,\"#ed7953\"],[0.7777777777777778,\"#fb9f3a\"],[0.8888888888888888,\"#fdca26\"],[1.0,\"#f0f921\"]],\"type\":\"contour\"}],\"contourcarpet\":[{\"colorbar\":{\"outlinewidth\":0,\"ticks\":\"\"},\"type\":\"contourcarpet\"}],\"heatmap\":[{\"colorbar\":{\"outlinewidth\":0,\"ticks\":\"\"},\"colorscale\":[[0.0,\"#0d0887\"],[0.1111111111111111,\"#46039f\"],[0.2222222222222222,\"#7201a8\"],[0.3333333333333333,\"#9c179e\"],[0.4444444444444444,\"#bd3786\"],[0.5555555555555556,\"#d8576b\"],[0.6666666666666666,\"#ed7953\"],[0.7777777777777778,\"#fb9f3a\"],[0.8888888888888888,\"#fdca26\"],[1.0,\"#f0f921\"]],\"type\":\"heatmap\"}],\"heatmapgl\":[{\"colorbar\":{\"outlinewidth\":0,\"ticks\":\"\"},\"colorscale\":[[0.0,\"#0d0887\"],[0.1111111111111111,\"#46039f\"],[0.2222222222222222,\"#7201a8\"],[0.3333333333333333,\"#9c179e\"],[0.4444444444444444,\"#bd3786\"],[0.5555555555555556,\"#d8576b\"],[0.6666666666666666,\"#ed7953\"],[0.7777777777777778,\"#fb9f3a\"],[0.8888888888888888,\"#fdca26\"],[1.0,\"#f0f921\"]],\"type\":\"heatmapgl\"}],\"histogram\":[{\"marker\":{\"pattern\":{\"fillmode\":\"overlay\",\"size\":10,\"solidity\":0.2}},\"type\":\"histogram\"}],\"histogram2d\":[{\"colorbar\":{\"outlinewidth\":0,\"ticks\":\"\"},\"colorscale\":[[0.0,\"#0d0887\"],[0.1111111111111111,\"#46039f\"],[0.2222222222222222,\"#7201a8\"],[0.3333333333333333,\"#9c179e\"],[0.4444444444444444,\"#bd3786\"],[0.5555555555555556,\"#d8576b\"],[0.6666666666666666,\"#ed7953\"],[0.7777777777777778,\"#fb9f3a\"],[0.8888888888888888,\"#fdca26\"],[1.0,\"#f0f921\"]],\"type\":\"histogram2d\"}],\"histogram2dcontour\":[{\"colorbar\":{\"outlinewidth\":0,\"ticks\":\"\"},\"colorscale\":[[0.0,\"#0d0887\"],[0.1111111111111111,\"#46039f\"],[0.2222222222222222,\"#7201a8\"],[0.3333333333333333,\"#9c179e\"],[0.4444444444444444,\"#bd3786\"],[0.5555555555555556,\"#d8576b\"],[0.6666666666666666,\"#ed7953\"],[0.7777777777777778,\"#fb9f3a\"],[0.8888888888888888,\"#fdca26\"],[1.0,\"#f0f921\"]],\"type\":\"histogram2dcontour\"}],\"mesh3d\":[{\"colorbar\":{\"outlinewidth\":0,\"ticks\":\"\"},\"type\":\"mesh3d\"}],\"parcoords\":[{\"line\":{\"colorbar\":{\"outlinewidth\":0,\"ticks\":\"\"}},\"type\":\"parcoords\"}],\"pie\":[{\"automargin\":true,\"type\":\"pie\"}],\"scatter\":[{\"marker\":{\"colorbar\":{\"outlinewidth\":0,\"ticks\":\"\"}},\"type\":\"scatter\"}],\"scatter3d\":[{\"line\":{\"colorbar\":{\"outlinewidth\":0,\"ticks\":\"\"}},\"marker\":{\"colorbar\":{\"outlinewidth\":0,\"ticks\":\"\"}},\"type\":\"scatter3d\"}],\"scattercarpet\":[{\"marker\":{\"colorbar\":{\"outlinewidth\":0,\"ticks\":\"\"}},\"type\":\"scattercarpet\"}],\"scattergeo\":[{\"marker\":{\"colorbar\":{\"outlinewidth\":0,\"ticks\":\"\"}},\"type\":\"scattergeo\"}],\"scattergl\":[{\"marker\":{\"colorbar\":{\"outlinewidth\":0,\"ticks\":\"\"}},\"type\":\"scattergl\"}],\"scattermapbox\":[{\"marker\":{\"colorbar\":{\"outlinewidth\":0,\"ticks\":\"\"}},\"type\":\"scattermapbox\"}],\"scatterpolar\":[{\"marker\":{\"colorbar\":{\"outlinewidth\":0,\"ticks\":\"\"}},\"type\":\"scatterpolar\"}],\"scatterpolargl\":[{\"marker\":{\"colorbar\":{\"outlinewidth\":0,\"ticks\":\"\"}},\"type\":\"scatterpolargl\"}],\"scatterternary\":[{\"marker\":{\"colorbar\":{\"outlinewidth\":0,\"ticks\":\"\"}},\"type\":\"scatterternary\"}],\"surface\":[{\"colorbar\":{\"outlinewidth\":0,\"ticks\":\"\"},\"colorscale\":[[0.0,\"#0d0887\"],[0.1111111111111111,\"#46039f\"],[0.2222222222222222,\"#7201a8\"],[0.3333333333333333,\"#9c179e\"],[0.4444444444444444,\"#bd3786\"],[0.5555555555555556,\"#d8576b\"],[0.6666666666666666,\"#ed7953\"],[0.7777777777777778,\"#fb9f3a\"],[0.8888888888888888,\"#fdca26\"],[1.0,\"#f0f921\"]],\"type\":\"surface\"}],\"table\":[{\"cells\":{\"fill\":{\"color\":\"#EBF0F8\"},\"line\":{\"color\":\"white\"}},\"header\":{\"fill\":{\"color\":\"#C8D4E3\"},\"line\":{\"color\":\"white\"}},\"type\":\"table\"}]},\"layout\":{\"annotationdefaults\":{\"arrowcolor\":\"#2a3f5f\",\"arrowhead\":0,\"arrowwidth\":1},\"autotypenumbers\":\"strict\",\"coloraxis\":{\"colorbar\":{\"outlinewidth\":0,\"ticks\":\"\"}},\"colorscale\":{\"diverging\":[[0,\"#8e0152\"],[0.1,\"#c51b7d\"],[0.2,\"#de77ae\"],[0.3,\"#f1b6da\"],[0.4,\"#fde0ef\"],[0.5,\"#f7f7f7\"],[0.6,\"#e6f5d0\"],[0.7,\"#b8e186\"],[0.8,\"#7fbc41\"],[0.9,\"#4d9221\"],[1,\"#276419\"]],\"sequential\":[[0.0,\"#0d0887\"],[0.1111111111111111,\"#46039f\"],[0.2222222222222222,\"#7201a8\"],[0.3333333333333333,\"#9c179e\"],[0.4444444444444444,\"#bd3786\"],[0.5555555555555556,\"#d8576b\"],[0.6666666666666666,\"#ed7953\"],[0.7777777777777778,\"#fb9f3a\"],[0.8888888888888888,\"#fdca26\"],[1.0,\"#f0f921\"]],\"sequentialminus\":[[0.0,\"#0d0887\"],[0.1111111111111111,\"#46039f\"],[0.2222222222222222,\"#7201a8\"],[0.3333333333333333,\"#9c179e\"],[0.4444444444444444,\"#bd3786\"],[0.5555555555555556,\"#d8576b\"],[0.6666666666666666,\"#ed7953\"],[0.7777777777777778,\"#fb9f3a\"],[0.8888888888888888,\"#fdca26\"],[1.0,\"#f0f921\"]]},\"colorway\":[\"#636efa\",\"#EF553B\",\"#00cc96\",\"#ab63fa\",\"#FFA15A\",\"#19d3f3\",\"#FF6692\",\"#B6E880\",\"#FF97FF\",\"#FECB52\"],\"font\":{\"color\":\"#2a3f5f\"},\"geo\":{\"bgcolor\":\"white\",\"lakecolor\":\"white\",\"landcolor\":\"#E5ECF6\",\"showlakes\":true,\"showland\":true,\"subunitcolor\":\"white\"},\"hoverlabel\":{\"align\":\"left\"},\"hovermode\":\"closest\",\"mapbox\":{\"style\":\"light\"},\"paper_bgcolor\":\"white\",\"plot_bgcolor\":\"#E5ECF6\",\"polar\":{\"angularaxis\":{\"gridcolor\":\"white\",\"linecolor\":\"white\",\"ticks\":\"\"},\"bgcolor\":\"#E5ECF6\",\"radialaxis\":{\"gridcolor\":\"white\",\"linecolor\":\"white\",\"ticks\":\"\"}},\"scene\":{\"xaxis\":{\"backgroundcolor\":\"#E5ECF6\",\"gridcolor\":\"white\",\"gridwidth\":2,\"linecolor\":\"white\",\"showbackground\":true,\"ticks\":\"\",\"zerolinecolor\":\"white\"},\"yaxis\":{\"backgroundcolor\":\"#E5ECF6\",\"gridcolor\":\"white\",\"gridwidth\":2,\"linecolor\":\"white\",\"showbackground\":true,\"ticks\":\"\",\"zerolinecolor\":\"white\"},\"zaxis\":{\"backgroundcolor\":\"#E5ECF6\",\"gridcolor\":\"white\",\"gridwidth\":2,\"linecolor\":\"white\",\"showbackground\":true,\"ticks\":\"\",\"zerolinecolor\":\"white\"}},\"shapedefaults\":{\"line\":{\"color\":\"#2a3f5f\"}},\"ternary\":{\"aaxis\":{\"gridcolor\":\"white\",\"linecolor\":\"white\",\"ticks\":\"\"},\"baxis\":{\"gridcolor\":\"white\",\"linecolor\":\"white\",\"ticks\":\"\"},\"bgcolor\":\"#E5ECF6\",\"caxis\":{\"gridcolor\":\"white\",\"linecolor\":\"white\",\"ticks\":\"\"}},\"title\":{\"x\":0.05},\"xaxis\":{\"automargin\":true,\"gridcolor\":\"white\",\"linecolor\":\"white\",\"ticks\":\"\",\"title\":{\"standoff\":15},\"zerolinecolor\":\"white\",\"zerolinewidth\":2},\"yaxis\":{\"automargin\":true,\"gridcolor\":\"white\",\"linecolor\":\"white\",\"ticks\":\"\",\"title\":{\"standoff\":15},\"zerolinecolor\":\"white\",\"zerolinewidth\":2}}},\"xaxis\":{\"anchor\":\"y\",\"domain\":[0.0,1.0],\"title\":{\"text\":\"Traded_Companies\"}},\"yaxis\":{\"anchor\":\"x\",\"domain\":[0.0,1.0],\"title\":{\"text\":\"Max_Price\"}},\"legend\":{\"tracegroupgap\":0},\"margin\":{\"t\":60},\"barmode\":\"relative\"},                        {\"responsive\": true}                    ).then(function(){\n",
       "                            \n",
       "var gd = document.getElementById('a1753f18-82c4-4971-81db-e1167ebc345d');\n",
       "var x = new MutationObserver(function (mutations, observer) {{\n",
       "        var display = window.getComputedStyle(gd).display;\n",
       "        if (!display || display === 'none') {{\n",
       "            console.log([gd, 'removed!']);\n",
       "            Plotly.purge(gd);\n",
       "            observer.disconnect();\n",
       "        }}\n",
       "}});\n",
       "\n",
       "// Listen for the removal of the full notebook cells\n",
       "var notebookContainer = gd.closest('#notebook-container');\n",
       "if (notebookContainer) {{\n",
       "    x.observe(notebookContainer, {childList: true});\n",
       "}}\n",
       "\n",
       "// Listen for the clearing of the current output cell\n",
       "var outputEl = gd.closest('.output');\n",
       "if (outputEl) {{\n",
       "    x.observe(outputEl, {childList: true});\n",
       "}}\n",
       "\n",
       "                        })                };                });            </script>        </div>"
      ]
     },
     "metadata": {},
     "output_type": "display_data"
    }
   ],
   "source": [
    "fig = px.bar(updated_dataframe, x='Traded_Companies', y='Max_Price')\n",
    "fig.show()"
   ]
  },
  {
   "cell_type": "code",
   "execution_count": 7,
   "id": "9cae6459",
   "metadata": {},
   "outputs": [
    {
     "data": {
      "text/plain": [
       "Index(['SN', 'Traded_Companies', 'No_Of_Transaction', 'Max_Price', 'Min_Price',\n",
       "       'Closing_Price', 'Traded_Shares', 'Amount', 'Previous_Closing',\n",
       "       'Difference_Rs'],\n",
       "      dtype='object')"
      ]
     },
     "execution_count": 7,
     "metadata": {},
     "output_type": "execute_result"
    }
   ],
   "source": [
    "updated_dataframe.columns"
   ]
  },
  {
   "cell_type": "code",
   "execution_count": 8,
   "id": "18bfbecb",
   "metadata": {},
   "outputs": [],
   "source": [
    "import mysql.connector \n",
    "from sqlalchemy import create_engine\n",
    "\n",
    "host = \"localhost\",\n",
    "user = \"root\",\n",
    "password = \"\",\n",
    "database = \"Nepse\"\n",
    "portnum = 3306    \n",
    "\n"
   ]
  },
  {
   "cell_type": "code",
   "execution_count": 9,
   "id": "5293f15f",
   "metadata": {},
   "outputs": [
    {
     "ename": "SyntaxError",
     "evalue": "EOL while scanning string literal (<ipython-input-9-d21bf3814aba>, line 1)",
     "output_type": "error",
     "traceback": [
      "\u001b[0;36m  File \u001b[0;32m\"<ipython-input-9-d21bf3814aba>\"\u001b[0;36m, line \u001b[0;32m1\u001b[0m\n\u001b[0;31m    my_engine = create_engine('mysql+mysqlconnector://'+user+ ':' +password+ '@' +host+ ':' +portnum ',echo = False)\u001b[0m\n\u001b[0m                                                                                                                    ^\u001b[0m\n\u001b[0;31mSyntaxError\u001b[0m\u001b[0;31m:\u001b[0m EOL while scanning string literal\n"
     ]
    }
   ],
   "source": [
    "my_engine = create_engine('mysql+mysqlconnector://'+user+ ':' +password+ '@' +host+ ':' +portnum ',echo = False)"
   ]
  },
  {
   "cell_type": "code",
   "execution_count": null,
   "id": "02a874d3",
   "metadata": {},
   "outputs": [],
   "source": [
    "for row in updated_dataframe.itertuple():\n",
    "    cursor.execute('''\n",
    "                    INSERT INTO Nepse.dbo.Nepse (\n",
    "                    SN, Traded_Companies, No_Of_Transaction, Max_Price,\n",
    "                    Min_Price, Closing_Price, Traded_Shares, Amount)\n",
    "                    VALUES(?,?,?,?,?,?,?,?)\n",
    "                   ''',\n",
    "                   row.SN,\n",
    "                   row.Traded_Companies,\n",
    "                   row.No_of_Transaction,\n",
    "                   row.Max_Price,\n",
    "                   row.Min_Price,\n",
    "                   row.Closing_Price,\n",
    "                   row.Traded_Shares,\n",
    "                   row.Amount\n",
    "                  )\n",
    "\n",
    "database.commit()"
   ]
  }
 ],
 "metadata": {
  "kernelspec": {
   "display_name": "Python 3",
   "language": "python",
   "name": "python3"
  },
  "language_info": {
   "codemirror_mode": {
    "name": "ipython",
    "version": 3
   },
   "file_extension": ".py",
   "mimetype": "text/x-python",
   "name": "python",
   "nbconvert_exporter": "python",
   "pygments_lexer": "ipython3",
   "version": "3.8.8"
  }
 },
 "nbformat": 4,
 "nbformat_minor": 5
}
